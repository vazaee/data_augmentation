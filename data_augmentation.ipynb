{
  "nbformat": 4,
  "nbformat_minor": 0,
  "metadata": {
    "colab": {
      "name": "data_augmentation.ipynb",
      "provenance": []
    },
    "kernelspec": {
      "name": "python3",
      "display_name": "Python 3"
    },
    "language_info": {
      "name": "python"
    }
  },
  "cells": [
    {
      "cell_type": "code",
      "execution_count": 10,
      "metadata": {
        "id": "uqffc6E4egmL"
      },
      "outputs": [],
      "source": [
        "import cv2    #import OpenCV library\n",
        "import numpy as np  #import numpy\n",
        "import requests   #import library for requests\n",
        "from PIL import Image   #import image library\n",
        "from io import BytesIO    #import io library\n",
        "from google.colab.patches import cv2_imshow   #import module to show image"
      ]
    },
    {
      "cell_type": "code",
      "source": [
        "#make image request and convert to image \n",
        "response = requests.get('https://static.educalingo.com/img/en/800/batrachia.jpg')\n",
        "img = Image.open(BytesIO(response.content))\n",
        "img = np.array(img)\n",
        "cv2_imshow(img)"
      ],
      "metadata": {
        "id": "CnX8i1U5e5px"
      },
      "execution_count": null,
      "outputs": []
    },
    {
      "cell_type": "code",
      "source": [
        ""
      ],
      "metadata": {
        "id": "JCkPz7hAfDhj"
      },
      "execution_count": null,
      "outputs": []
    }
  ]
}